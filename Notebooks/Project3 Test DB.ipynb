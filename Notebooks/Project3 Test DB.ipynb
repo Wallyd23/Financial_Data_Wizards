{
 "cells": [
  {
   "cell_type": "code",
   "execution_count": 1,
   "id": "0b41cfce-4543-4cb3-949e-4893320c2570",
   "metadata": {},
   "outputs": [],
   "source": [
    "\n",
    "import psycopg2\n",
    "import pandas as pd\n",
    "\n",
    "# Establish a connection to the PostgreSQL database\n",
    "conn = psycopg2.connect(\n",
    "    dbname=\"FinanceDB\",\n",
    "    user=\"postgres\",\n",
    "    password=\"\",\n",
    "    host=\"localhost\",\n",
    "    port=\"5433\"\n",
    ")"
   ]
  },
  {
   "cell_type": "code",
   "execution_count": 8,
   "id": "25886ece-aca8-4a41-a673-3523fad962b3",
   "metadata": {},
   "outputs": [
    {
     "name": "stderr",
     "output_type": "stream",
     "text": [
      "C:\\Users\\cruza\\AppData\\Local\\Temp\\ipykernel_183616\\1627392576.py:5: UserWarning: pandas only supports SQLAlchemy connectable (engine/connection) or database string URI or sqlite3 DBAPI2 connection. Other DBAPI2 objects are not tested. Please consider using SQLAlchemy.\n",
      "  df = pd.read_sql_query(query, conn)\n"
     ]
    },
    {
     "name": "stdout",
     "output_type": "stream",
     "text": [
      "        fund_symbol  price_date   open   high    low  close  adj_close  \\\n",
      "0               AAA  2020-09-09  25.10  25.12  25.07  25.07      24.85   \n",
      "1               AAA  2020-09-10  25.06  25.07  25.05  25.07      24.85   \n",
      "2               AAA  2020-09-11  25.04  25.05  25.02  25.03      24.81   \n",
      "3               AAA  2020-09-14  25.01  25.06  25.01  25.02      24.80   \n",
      "4               AAA  2020-09-15  25.02  25.03  25.01  25.01      24.79   \n",
      "...             ...         ...    ...    ...    ...    ...        ...   \n",
      "4914600        FEUZ  2017-11-10  42.67  42.67  42.16  42.45      39.53   \n",
      "4914601        FEUZ  2017-11-13  41.72  41.91  41.72  41.80      38.92   \n",
      "4914602        FEUZ  2017-11-14  42.28  42.67  42.24  42.51      39.58   \n",
      "4914603        FEUZ  2017-11-15  41.95  42.43  41.57  42.37      39.45   \n",
      "4914604        FEUZ  2017-11-16  42.78  42.85  42.59  42.66      39.72   \n",
      "\n",
      "          volume  \n",
      "0        17300.0  \n",
      "1        23500.0  \n",
      "2        33400.0  \n",
      "3        13100.0  \n",
      "4        12100.0  \n",
      "...          ...  \n",
      "4914600   6400.0  \n",
      "4914601   5100.0  \n",
      "4914602  27600.0  \n",
      "4914603  12000.0  \n",
      "4914604   1500.0  \n",
      "\n",
      "[4914605 rows x 8 columns]\n"
     ]
    }
   ],
   "source": [
    "# Write your SQL query\n",
    "query = 'SELECT * FROM public.\"ETFprices\";'\n",
    "\n",
    "# Execute the query and load the results into a DataFrame\n",
    "df = pd.read_sql_query(query, conn)\n",
    "\n",
    "# Print the DataFrame\n",
    "print(df)"
   ]
  },
  {
   "cell_type": "code",
   "execution_count": null,
   "id": "59f28813-8e86-4566-b83b-4eeade14356e",
   "metadata": {},
   "outputs": [],
   "source": []
  }
 ],
 "metadata": {
  "kernelspec": {
   "display_name": "Python 3 (ipykernel)",
   "language": "python",
   "name": "python3"
  },
  "language_info": {
   "codemirror_mode": {
    "name": "ipython",
    "version": 3
   },
   "file_extension": ".py",
   "mimetype": "text/x-python",
   "name": "python",
   "nbconvert_exporter": "python",
   "pygments_lexer": "ipython3",
   "version": "3.11.7"
  }
 },
 "nbformat": 4,
 "nbformat_minor": 5
}
